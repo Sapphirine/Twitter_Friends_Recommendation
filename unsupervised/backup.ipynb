{
 "metadata": {
  "kernelspec": {
   "display_name": "Python 2",
   "language": "python",
   "name": "python2"
  },
  "language_info": {
   "codemirror_mode": {
    "name": "ipython",
    "version": 2
   },
   "file_extension": ".py",
   "mimetype": "text/x-python",
   "name": "python",
   "nbconvert_exporter": "python",
   "pygments_lexer": "ipython2",
   "version": "2.7.12"
  },
  "name": "",
  "signature": "sha256:0a74f7aa1e0ccb2df4ef1ee44e6a927414ad425be45b4bf649cc815c7f0df0a9"
 },
 "nbformat": 3,
 "nbformat_minor": 0,
 "worksheets": [
  {
   "cells": [
    {
     "cell_type": "code",
     "collapsed": false,
     "input": [
      "import numpy as np\n",
      "import pandas as pd\n",
      "import nltk\n",
      "from nltk.stem.snowball import SnowballStemmer\n",
      "from bs4 import BeautifulSoup\n",
      "import re\n",
      "import os\n",
      "import codecs\n",
      "from sklearn import feature_extraction\n",
      "import mpld3"
     ],
     "language": "python",
     "metadata": {
      "scrolled": true
     },
     "outputs": [],
     "prompt_number": 2
    },
    {
     "cell_type": "code",
     "collapsed": false,
     "input": [
      "import csv \n",
      "with open('result_test.csv','rb') as csvfile:\n",
      "    reader = csv.DictReader(csvfile)\n",
      "    users = [row['screen_name'] for row in reader]\n",
      "with open('result_test.csv','rb') as csvfile:\n",
      "    reader = csv.DictReader(csvfile)\n",
      "    tweets = [row['text'] for row in reader]\n",
      "with open('result_test.csv','rb') as csvfile:\n",
      "    reader = csv.DictReader(csvfile)\n",
      "    location = [row['location'] for row in reader]"
     ],
     "language": "python",
     "metadata": {},
     "outputs": [],
     "prompt_number": 3
    },
    {
     "cell_type": "code",
     "collapsed": false,
     "input": [
      "len(tweets)\n"
     ],
     "language": "python",
     "metadata": {},
     "outputs": [
      {
       "metadata": {},
       "output_type": "pyout",
       "prompt_number": 4,
       "text": [
        "864508"
       ]
      }
     ],
     "prompt_number": 4
    },
    {
     "cell_type": "code",
     "collapsed": false,
     "input": [
      "tmp=1\n",
      "titles=[]\n",
      "texts=[]\n",
      "locats=[]\n",
      "pos=0\n",
      "for i in range(1,len(tweets)):\n",
      "    if i == len(tweets)-1:\n",
      "        if users[i]==users[i-1] and tmp>=39:\n",
      "            titles.append(users[i-1])\n",
      "            locats.append(location[i-1])\n",
      "            texts.append(tweets[pos:i])\n",
      "            break\n",
      "    if users[i]==users[i-1]:\n",
      "        if tweets[i]!=\"\":\n",
      "            tmp+=1\n",
      "    elif tmp>40:\n",
      "        titles.append(users[i-1])\n",
      "        locats.append(location[i-1])\n",
      "        texts.append(tweets[pos:i])\n",
      "        tmp=1\n",
      "        pos=i\n",
      "    else:\n",
      "        tmp=1\n",
      "        pos=i\n",
      "print(len(titles))\n",
      "print(len(texts))\n",
      "print(len(locats))"
     ],
     "language": "python",
     "metadata": {},
     "outputs": [
      {
       "output_type": "stream",
       "stream": "stdout",
       "text": [
        "661\n",
        "661\n",
        "661\n"
       ]
      }
     ],
     "prompt_number": 5
    },
    {
     "cell_type": "code",
     "collapsed": false,
     "input": [
      "#titles"
     ],
     "language": "python",
     "metadata": {},
     "outputs": [],
     "prompt_number": 6
    },
    {
     "cell_type": "markdown",
     "metadata": {},
     "source": [
      "Read Genres information"
     ]
    },
    {
     "cell_type": "code",
     "collapsed": false,
     "input": [
      "for i in range(0,len(texts)):\n",
      "    texts[i]=''.join(texts[i])"
     ],
     "language": "python",
     "metadata": {},
     "outputs": [],
     "prompt_number": 7
    },
    {
     "cell_type": "code",
     "collapsed": false,
     "input": [
      "clean_tweets = []\n",
      "for text in texts:\n",
      "    text = BeautifulSoup(text, 'html.parser').getText()\n",
      "    clean_tweets.append(text)\n",
      "texts = clean_tweets"
     ],
     "language": "python",
     "metadata": {},
     "outputs": [],
     "prompt_number": 8
    },
    {
     "cell_type": "code",
     "collapsed": false,
     "input": [
      "#texts[0]"
     ],
     "language": "python",
     "metadata": {},
     "outputs": [],
     "prompt_number": 9
    },
    {
     "cell_type": "code",
     "collapsed": false,
     "input": [
      "t_texts = []\n",
      "for i in range(len(texts)):\n",
      "    item = texts[i] \n",
      "    t_texts.append(item)"
     ],
     "language": "python",
     "metadata": {},
     "outputs": [],
     "prompt_number": 10
    },
    {
     "cell_type": "code",
     "collapsed": false,
     "input": [
      "#t_texts[0]"
     ],
     "language": "python",
     "metadata": {},
     "outputs": [],
     "prompt_number": 11
    },
    {
     "cell_type": "code",
     "collapsed": false,
     "input": [
      "# generates index for each item in the corpora (in this case it's just rank) and I'll use this for scoring later\n",
      "# the movies in the list are already ranked from 1 to 100\n",
      "ranks = []\n",
      "for i in range(1, len(titles)+1):\n",
      "    ranks.append(i)"
     ],
     "language": "python",
     "metadata": {},
     "outputs": [],
     "prompt_number": 12
    },
    {
     "cell_type": "code",
     "collapsed": false,
     "input": [
      "# load nltk's English stopwords as variable called 'stopwords'\n",
      "# use nltk.download() to install the corpus first\n",
      "# Stop Words are words which do not contain important significance to be used in Search Queries\n",
      "stopwords = nltk.corpus.stopwords.words('english')\n",
      "# load nltk's SnowballStemmer as variabled 'stemmer'\n",
      "stemmer = SnowballStemmer(\"english\")"
     ],
     "language": "python",
     "metadata": {},
     "outputs": [],
     "prompt_number": 16
    },
    {
     "cell_type": "code",
     "collapsed": false,
     "input": [
      "len(stopwords)"
     ],
     "language": "python",
     "metadata": {},
     "outputs": [
      {
       "metadata": {},
       "output_type": "pyout",
       "prompt_number": 17,
       "text": [
        "153"
       ]
      }
     ],
     "prompt_number": 17
    },
    {
     "cell_type": "code",
     "collapsed": false,
     "input": [
      "#stopwords"
     ],
     "language": "python",
     "metadata": {},
     "outputs": [],
     "prompt_number": 18
    },
    {
     "cell_type": "code",
     "collapsed": false,
     "input": [
      "sents = [sent for sent in nltk.sent_tokenize(\"Today (May 19, 2016) is his only daughter's wedding. Vito Corleone is the Godfather. Vito's youngest son, Michael, in a Marine Corps uniform, introduces his girlfriend, Kay Adams, to his family at the sprawling reception.\")]"
     ],
     "language": "python",
     "metadata": {},
     "outputs": [],
     "prompt_number": 19
    },
    {
     "cell_type": "code",
     "collapsed": false,
     "input": [
      "# here I define a tokenizer and stemmer which returns the set of stems in the text that it is passed\n",
      "# Punkt Sentence Tokenizer, sent means sentence \n",
      "def tokenize_and_stem(text):\n",
      "    # first tokenize by sentence, then by word to ensure that punctuation is caught as it's own token\n",
      "    tokens = [word for sent in nltk.sent_tokenize(text) for word in nltk.word_tokenize(sent)]\n",
      "    filtered_tokens = []\n",
      "    # filter out any tokens not containing letters (e.g., numeric tokens, raw punctuation)\n",
      "    for token in tokens:\n",
      "        if re.search('[a-zA-Z]', token):\n",
      "            filtered_tokens.append(token)\n",
      "    stems = [stemmer.stem(t) for t in filtered_tokens]\n",
      "    return stems"
     ],
     "language": "python",
     "metadata": {},
     "outputs": [],
     "prompt_number": 20
    },
    {
     "cell_type": "code",
     "collapsed": false,
     "input": [
      "\n",
      "def tokenize_only(text):\n",
      "    # first tokenize by sentence, then by word to ensure that punctuation is caught as it's own token\n",
      "    tokens = [word.lower() for sent in nltk.sent_tokenize(text) for word in nltk.word_tokenize(sent)]\n",
      "    filtered_tokens = []\n",
      "    # filter out any tokens not containing letters (e.g., numeric tokens, raw punctuation)\n",
      "    for token in tokens:\n",
      "        if re.search('[a-zA-Z]', token):\n",
      "            filtered_tokens.append(token)\n",
      "    return filtered_tokens"
     ],
     "language": "python",
     "metadata": {},
     "outputs": [],
     "prompt_number": 21
    },
    {
     "cell_type": "code",
     "collapsed": false,
     "input": [
      "totalvocab_stemmed = []\n",
      "totalvocab_tokenized = []\n",
      "for i in t_texts:\n",
      "    allwords_stemmed = tokenize_and_stem(i) # for each item in 'synopses', tokenize/stem\n",
      "    totalvocab_stemmed.extend(allwords_stemmed) # extend the 'totalvocab_stemmed' list\n",
      "    \n",
      "    allwords_tokenized = tokenize_only(i)\n",
      "    totalvocab_tokenized.extend(allwords_tokenized)"
     ],
     "language": "python",
     "metadata": {},
     "outputs": [],
     "prompt_number": 22
    },
    {
     "cell_type": "code",
     "collapsed": false,
     "input": [
      "print(len(totalvocab_stemmed))\n",
      "print(len(totalvocab_tokenized))"
     ],
     "language": "python",
     "metadata": {},
     "outputs": [
      {
       "output_type": "stream",
       "stream": "stdout",
       "text": [
        "6401145\n",
        "6401145\n"
       ]
      }
     ],
     "prompt_number": 23
    },
    {
     "cell_type": "code",
     "collapsed": false,
     "input": [
      "vocab_frame = pd.DataFrame({'words': totalvocab_tokenized}, index = totalvocab_stemmed)\n",
      "#print('there are ' + str(vocab_frame.shape[0]) + ' items in vocab_frame')\n",
      "#print(vocab_frame.head())"
     ],
     "language": "python",
     "metadata": {},
     "outputs": [],
     "prompt_number": 24
    },
    {
     "cell_type": "code",
     "collapsed": false,
     "input": [
      "# Note that the result of this block takes a while to show\n",
      "from sklearn.feature_extraction.text import TfidfVectorizer\n",
      "\n",
      "#define vectorizer parameters\n",
      "tfidf_vectorizer = TfidfVectorizer(max_df=0.8, max_features=200000,\n",
      "                                 min_df=0.2, stop_words='english',\n",
      "                                 use_idf=True, tokenizer=tokenize_and_stem, ngram_range=(1,3))\n",
      "\n",
      "%time tfidf_matrix = tfidf_vectorizer.fit_transform(t_texts) #fit the vectorizer to synopses\n",
      "\n",
      "# (100, 563) means the matrix has 100 rows and 563 columns\n",
      "print(tfidf_matrix.shape)\n",
      "terms = tfidf_vectorizer.get_feature_names()\n",
      "len(terms)"
     ],
     "language": "python",
     "metadata": {
      "scrolled": true
     },
     "outputs": [
      {
       "output_type": "stream",
       "stream": "stdout",
       "text": [
        "CPU times: user 3min 26s, sys: 31.4 s, total: 3min 57s\n",
        "Wall time: 3min 57s\n",
        "(661, 2624)\n"
       ]
      },
      {
       "metadata": {},
       "output_type": "pyout",
       "prompt_number": 25,
       "text": [
        "2624"
       ]
      }
     ],
     "prompt_number": 25
    },
    {
     "cell_type": "code",
     "collapsed": false,
     "input": [
      "from sklearn.metrics.pairwise import cosine_similarity\n",
      "# A short example using the sentences above\n",
      "words_vectorizer = TfidfVectorizer(max_df=0.8, max_features=200000,\n",
      "                                 min_df=0.2, stop_words='english',\n",
      "                                 use_idf=True, tokenizer=tokenize_and_stem, ngram_range=(1,3))\n",
      "\n",
      "%time words_matrix = words_vectorizer.fit_transform(sents) #fit the vectorizer to synopses\n",
      "\n",
      "# (2, 18) means the matrix has 2 rows (two sentences) and 18 columns (18 terms)\n",
      "print(words_matrix.shape)\n",
      "print(words_matrix)\n",
      "\n",
      "# this is how we get the 18 terms\n",
      "analyze = words_vectorizer.build_analyzer()\n",
      "print(analyze(\"Today (May 19, 2016) is his only daughter's wedding.\"))\n",
      "print(analyze(\"Vito Corleone is the Godfather.\"))\n",
      "print(analyze(\"Vito's youngest son, Michael, in a Marine Corps uniform, introduces his girlfriend, Kay Adams, to his family at the sprawling reception.\"))\n",
      "all_terms = words_vectorizer.get_feature_names()\n",
      "print(all_terms)\n",
      "print(len(all_terms))\n",
      "\n",
      "# sent 1 and 2, similarity 0, sent 1 and 3 shares \"his\", sent 2 and 3 shares Vito - try to change Vito's in sent3 to His and see the similary matrix changes\n",
      "example_similarity = cosine_similarity(words_matrix)\n",
      "example_similarity"
     ],
     "language": "python",
     "metadata": {
      "scrolled": true
     },
     "outputs": [
      {
       "output_type": "stream",
       "stream": "stdout",
       "text": [
        "CPU times: user 8 ms, sys: 0 ns, total: 8 ms\n",
        "Wall time: 5.26 ms\n",
        "(3, 58)\n",
        "  (0, 14)\t0.293883860165\n",
        "  (0, 36)\t0.293883860165\n",
        "  (0, 45)\t0.293883860165\n",
        "  (0, 1)\t0.293883860165\n",
        "  (0, 13)\t0.293883860165\n",
        "  (0, 35)\t0.293883860165\n",
        "  (0, 44)\t0.293883860165\n",
        "  (0, 54)\t0.293883860165\n",
        "  (0, 0)\t0.223506250645\n",
        "  (0, 12)\t0.293883860165\n",
        "  (0, 34)\t0.293883860165\n",
        "  (0, 43)\t0.293883860165\n",
        "  (1, 53)\t0.423394483412\n",
        "  (1, 8)\t0.423394483412\n",
        "  (1, 52)\t0.423394483412\n",
        "  (1, 21)\t0.423394483412\n",
        "  (1, 7)\t0.423394483412\n",
        "  (1, 49)\t0.322002417819\n",
        "  (2, 17)\t0.155875983098\n",
        "  (2, 6)\t0.155875983098\n",
        "  (2, 27)\t0.155875983098\n",
        "  (2, 20)\t0.155875983098\n",
        "  (2, 24)\t0.155875983098\n",
        "  (2, 48)\t0.155875983098\n",
        "  (2, 11)\t0.155875983098\n",
        "  :\t:\n",
        "  (2, 19)\t0.155875983098\n",
        "  (2, 23)\t0.155875983098\n",
        "  (2, 47)\t0.155875983098\n",
        "  (2, 10)\t0.155875983098\n",
        "  (2, 29)\t0.155875983098\n",
        "  (2, 32)\t0.155875983098\n",
        "  (2, 39)\t0.155875983098\n",
        "  (2, 56)\t0.155875983098\n",
        "  (2, 2)\t0.155875983098\n",
        "  (2, 50)\t0.155875983098\n",
        "  (2, 37)\t0.155875983098\n",
        "  (2, 41)\t0.155875983098\n",
        "  (2, 15)\t0.155875983098\n",
        "  (2, 4)\t0.155875983098\n",
        "  (2, 25)\t0.155875983098\n",
        "  (2, 18)\t0.155875983098\n",
        "  (2, 22)\t0.155875983098\n",
        "  (2, 46)\t0.155875983098\n",
        "  (2, 9)\t0.155875983098\n",
        "  (2, 28)\t0.155875983098\n",
        "  (2, 31)\t0.155875983098\n",
        "  (2, 38)\t0.155875983098\n",
        "  (2, 55)\t0.155875983098\n",
        "  (2, 49)\t0.11854770292\n",
        "  (2, 0)\t0.11854770292\n",
        "[u'today', u'onli', u'daughter', u\"'s\", u'wed', u'today onli', u'onli daughter', u\"daughter 's\", u\"'s wed\", u'today onli daughter', u\"onli daughter 's\", u\"daughter 's wed\"]\n",
        "[u'vito', u'corleon', u'godfath', u'vito corleon', u'corleon godfath', u'vito corleon godfath']\n",
        "[u'vito', u\"'s\", u'youngest', u'son', u'michael', u'marin', u'corp', u'uniform', u'introduc', u'girlfriend', u'kay', u'adam', u'famili', u'sprawl', u'recept', u\"vito 's\", u\"'s youngest\", u'youngest son', u'son michael', u'michael marin', u'marin corp', u'corp uniform', u'uniform introduc', u'introduc girlfriend', u'girlfriend kay', u'kay adam', u'adam famili', u'famili sprawl', u'sprawl recept', u\"vito 's youngest\", u\"'s youngest son\", u'youngest son michael', u'son michael marin', u'michael marin corp', u'marin corp uniform', u'corp uniform introduc', u'uniform introduc girlfriend', u'introduc girlfriend kay', u'girlfriend kay adam', u'kay adam famili', u'adam famili sprawl', u'famili sprawl recept']\n",
        "[u\"'s\", u\"'s wed\", u\"'s youngest\", u\"'s youngest son\", u'adam', u'adam famili', u'adam famili sprawl', u'corleon', u'corleon godfath', u'corp', u'corp uniform', u'corp uniform introduc', u'daughter', u\"daughter 's\", u\"daughter 's wed\", u'famili', u'famili sprawl', u'famili sprawl recept', u'girlfriend', u'girlfriend kay', u'girlfriend kay adam', u'godfath', u'introduc', u'introduc girlfriend', u'introduc girlfriend kay', u'kay', u'kay adam', u'kay adam famili', u'marin', u'marin corp', u'marin corp uniform', u'michael', u'michael marin', u'michael marin corp', u'onli', u'onli daughter', u\"onli daughter 's\", u'recept', u'son', u'son michael', u'son michael marin', u'sprawl', u'sprawl recept', u'today', u'today onli', u'today onli daughter', u'uniform', u'uniform introduc', u'uniform introduc girlfriend', u'vito', u\"vito 's\", u\"vito 's youngest\", u'vito corleon', u'vito corleon godfath', u'wed', u'youngest', u'youngest son', u'youngest son michael']\n",
        "58\n"
       ]
      },
      {
       "metadata": {},
       "output_type": "pyout",
       "prompt_number": 26,
       "text": [
        "array([[ 1.        ,  0.        ,  0.02649615],\n",
        "       [ 0.        ,  1.        ,  0.03817265],\n",
        "       [ 0.02649615,  0.03817265,  1.        ]])"
       ]
      }
     ],
     "prompt_number": 26
    },
    {
     "cell_type": "code",
     "collapsed": false,
     "input": [
      "from sklearn.cluster import KMeans\n",
      "\n",
      "num_clusters = 10\n",
      "\n",
      "km = KMeans(n_clusters=num_clusters)\n",
      "\n",
      "%time km.fit(tfidf_matrix)\n",
      "\n",
      "clusters = km.labels_.tolist()"
     ],
     "language": "python",
     "metadata": {},
     "outputs": [
      {
       "output_type": "stream",
       "stream": "stdout",
       "text": [
        "CPU times: user 2.32 s, sys: 12 ms, total: 2.34 s\n",
        "Wall time: 2.35 s\n"
       ]
      }
     ],
     "prompt_number": 27
    },
    {
     "cell_type": "code",
     "collapsed": false,
     "input": [
      "from sklearn.externals import joblib\n",
      "\n",
      "#uncomment the below to save your model \n",
      "#since I've already run my model I am loading from the pickle\n",
      "\n",
      "joblib.dump(km,  'doc_cluster.pkl')\n",
      "\n",
      "km = joblib.load('doc_cluster.pkl')\n",
      "clusters = km.labels_.tolist()\n",
      "# clusters show which cluster (0-4) each of the 100 synoposes belongs to\n",
      "print(len(clusters))\n",
      "print(clusters)"
     ],
     "language": "python",
     "metadata": {},
     "outputs": [
      {
       "output_type": "stream",
       "stream": "stdout",
       "text": [
        "661\n",
        "[3, 2, 1, 2, 8, 3, 9, 2, 9, 9, 9, 2, 3, 2, 8, 9, 8, 9, 7, 8, 1, 1, 8, 2, 8, 1, 8, 2, 8, 9, 8, 2, 8, 1, 8, 8, 8, 2, 8, 6, 8, 5, 2, 8, 8, 1, 2, 8, 1, 8, 2, 2, 2, 1, 2, 2, 2, 2, 2, 2, 8, 7, 8, 2, 8, 8, 9, 2, 1, 2, 9, 9, 4, 2, 9, 9, 8, 9, 9, 9, 8, 9, 0, 8, 1, 9, 9, 2, 9, 1, 9, 9, 8, 9, 8, 9, 2, 8, 2, 2, 8, 8, 7, 9, 2, 9, 1, 9, 9, 2, 9, 8, 8, 0, 9, 3, 9, 9, 2, 1, 9, 8, 9, 8, 8, 1, 7, 2, 2, 3, 3, 1, 9, 2, 2, 2, 3, 2, 2, 2, 3, 7, 7, 3, 2, 2, 7, 9, 9, 9, 1, 3, 7, 1, 0, 1, 7, 0, 3, 7, 7, 7, 7, 7, 2, 1, 7, 1, 7, 9, 7, 7, 0, 1, 0, 7, 8, 7, 0, 7, 2, 0, 1, 0, 7, 0, 7, 0, 7, 1, 7, 7, 1, 0, 1, 0, 7, 9, 2, 1, 2, 2, 8, 8, 9, 9, 2, 8, 2, 9, 8, 9, 9, 8, 1, 2, 7, 4, 1, 8, 9, 2, 8, 2, 2, 8, 8, 2, 2, 0, 9, 2, 7, 2, 1, 2, 2, 6, 1, 1, 0, 2, 2, 2, 7, 2, 2, 2, 3, 1, 2, 2, 2, 2, 7, 2, 2, 2, 2, 1, 2, 3, 1, 2, 2, 3, 7, 2, 3, 1, 2, 3, 2, 2, 1, 2, 7, 1, 0, 1, 2, 2, 2, 1, 2, 1, 3, 2, 3, 2, 2, 2, 2, 5, 2, 5, 2, 8, 1, 2, 1, 2, 1, 2, 2, 2, 2, 1, 2, 0, 2, 1, 2, 2, 1, 3, 2, 1, 1, 7, 2, 2, 2, 3, 0, 2, 1, 5, 1, 2, 2, 4, 1, 1, 2, 0, 2, 2, 1, 3, 2, 1, 1, 2, 2, 2, 2, 0, 1, 1, 7, 3, 3, 0, 8, 0, 2, 7, 2, 2, 3, 1, 2, 2, 2, 6, 9, 1, 2, 2, 2, 2, 1, 2, 2, 0, 2, 9, 1, 1, 2, 1, 7, 1, 1, 1, 7, 1, 2, 2, 3, 0, 1, 8, 2, 8, 1, 2, 2, 2, 2, 3, 2, 7, 7, 2, 2, 5, 2, 2, 4, 4, 1, 2, 3, 2, 1, 1, 2, 8, 2, 2, 2, 8, 2, 1, 1, 2, 2, 2, 2, 2, 2, 9, 5, 1, 1, 1, 2, 1, 1, 2, 2, 2, 2, 3, 2, 7, 0, 2, 3, 7, 2, 2, 0, 2, 2, 4, 1, 2, 3, 7, 2, 7, 7, 7, 9, 7, 8, 1, 0, 7, 7, 2, 7, 7, 0, 0, 2, 0, 7, 0, 7, 3, 2, 3, 7, 3, 2, 8, 2, 0, 2, 1, 1, 7, 7, 9, 0, 0, 0, 2, 7, 6, 8, 2, 8, 2, 0, 2, 3, 7, 0, 2, 7, 0, 2, 5, 1, 0, 1, 8, 7, 2, 2, 2, 2, 0, 0, 2, 8, 2, 1, 1, 2, 7, 0, 2, 2, 1, 1, 2, 0, 1, 1, 2, 2, 0, 3, 0, 1, 7, 0, 7, 2, 2, 7, 7, 1, 9, 0, 2, 7, 0, 2, 7, 6, 0, 2, 2, 2, 2, 2, 1, 2, 1, 2, 8, 0, 1, 2, 8, 7, 7, 7, 8, 2, 1, 2, 1, 7, 1, 7, 2, 7, 1, 0, 1, 0, 0, 0, 1, 7, 1, 1, 2, 1, 1, 0, 1, 9, 0, 4, 3, 0, 2, 0, 0, 7, 1, 0, 7, 7, 7, 2, 0, 1, 2, 1, 7, 7, 2, 8, 1, 1, 7, 8, 2, 7, 0, 8, 1, 0, 7, 8, 0, 1, 1, 1, 1, 1, 7, 1, 3, 0, 1, 2, 8, 9, 7, 7]\n"
       ]
      }
     ],
     "prompt_number": 28
    },
    {
     "cell_type": "code",
     "collapsed": false,
     "input": [
      "t_clusters = { 'title': titles, 'rank': ranks,  'cluster': clusters }\n",
      "\n",
      "frame = pd.DataFrame(t_clusters, index = [clusters] , columns = ['rank', 'title', 'cluster'])\n",
      "\n",
      "print(frame) # here the ranking is still 0 to 99\n",
      "\n",
      "frame['cluster'].value_counts() #number of films per cluster (clusters from 0 to 4)"
     ],
     "language": "python",
     "metadata": {},
     "outputs": [
      {
       "output_type": "stream",
       "stream": "stdout",
       "text": [
        "    rank            title  cluster\n",
        "3      1      mikerossiii        3\n",
        "2      2     RoyAsksTough        2\n",
        "1      3   Isaack_Muthusi        1\n",
        "2      4     Chasefluhart        2\n",
        "8      5      MarkHJr1221        8\n",
        "3      6    rezakhorshidi        3\n",
        "9      7    cohen_burgess        9\n",
        "2      8    eabdelghany74        2\n",
        "9      9       KWright387        9\n",
        "9     10     mcbroomfield        9\n",
        "9     11         P_Dawg32        9\n",
        "2     12    ChancesOfThat        2\n",
        "3     13    mearajennifer        3\n",
        "2     14      blingboss98        2\n",
        "8     15      Datdudetezb        8\n",
        "9     16     Muhammed_LFC        9\n",
        "8     17     hanson_julia        8\n",
        "9     18  TheRealMcCauley        9\n",
        "7     19         manianca        7\n",
        "8     20       ains_varin        8\n",
        "1     21       manas__401        1\n",
        "1     22     FPCityCenter        1\n",
        "8     23       YungSav100        8\n",
        "2     24   Lil_Waynes_fan        2\n",
        "8     25    bruhbeastmode        8\n",
        "1     26  gray_eth_fijmin        1\n",
        "8     27      Capt_Amalik        8\n",
        "2     28   LevantisBistro        2\n",
        "8     29       ConnorJon_        8\n",
        "9     30        ToddEames        9\n",
        "..   ...              ...      ...\n",
        "2    632        veraleann        2\n",
        "8    633       emceehaych        8\n",
        "1    634  ImStillElectric        1\n",
        "1    635      akire_merca        1\n",
        "7    636   CagnolattiEdie        7\n",
        "8    637   quartertothree        8\n",
        "2    638       jepierce16        2\n",
        "7    639         DannyPKC        7\n",
        "0    640       clover0310        0\n",
        "8    641   mcadams_leeann        8\n",
        "1    642      jaimemanels        1\n",
        "0    643  madamefraudonna        0\n",
        "7    644   TheLauraHarmon        7\n",
        "8    645     GigglyGhuleh        8\n",
        "0    646           audj01        0\n",
        "1    647      ohmyglobbbb        1\n",
        "1    648       jackiepick        1\n",
        "1    649     CollFlanJohn        1\n",
        "1    650      robinfisher        1\n",
        "1    651       rshanea722        1\n",
        "7    652        johnpzane        7\n",
        "1    653          goose2e        1\n",
        "3    654       Vanderlisa        3\n",
        "0    655         Mliss728        0\n",
        "1    656      t_h_manning        1\n",
        "2    657  bethsmithcomedy        2\n",
        "8    658     koconnell_25        8\n",
        "9    659     ShrugMonster        9\n",
        "7    660   MikeQuinlivan1        7\n",
        "7    661   barbarellalynn        7\n",
        "\n",
        "[661 rows x 3 columns]\n"
       ]
      },
      {
       "metadata": {},
       "output_type": "pyout",
       "prompt_number": 29,
       "text": [
        "2    214\n",
        "1    120\n",
        "7     86\n",
        "8     66\n",
        "0     65\n",
        "9     54\n",
        "3     37\n",
        "5      7\n",
        "4      7\n",
        "6      5\n",
        "Name: cluster, dtype: int64"
       ]
      }
     ],
     "prompt_number": 29
    },
    {
     "cell_type": "code",
     "collapsed": false,
     "input": [
      "grouped = frame['rank'].groupby(frame['cluster']) # groupby cluster for aggregation purposes\n",
      "\n",
      "grouped.mean() # average rank (1 to 100) per cluster"
     ],
     "language": "python",
     "metadata": {},
     "outputs": [
      {
       "metadata": {},
       "output_type": "pyout",
       "prompt_number": 30,
       "text": [
        "cluster\n",
        "0    437.153846\n",
        "1    373.958333\n",
        "2    328.943925\n",
        "3    308.702703\n",
        "4    359.571429\n",
        "5    331.571429\n",
        "6    343.000000\n",
        "7    390.674419\n",
        "8    220.696970\n",
        "9    166.074074\n",
        "Name: rank, dtype: float64"
       ]
      }
     ],
     "prompt_number": 30
    },
    {
     "cell_type": "code",
     "collapsed": false,
     "input": [
      "from __future__ import print_function\n",
      "\n",
      "\n",
      "key_words=[]\n",
      "\n",
      "\n",
      "print(\"Top terms per cluster:\")\n",
      "\n",
      "#sort cluster centers by proximity to centroid\n",
      "order_centroids = km.cluster_centers_.argsort()[:, ::-1] \n",
      "\n",
      "for i in range(num_clusters):\n",
      "    key_words.append([])\n",
      "    print(\"Cluster %d words:\" % i, end='')\n",
      "    \n",
      "    for ind in order_centroids[i, :6]: #replace 6 with n words per cluster\n",
      "        st_test=vocab_frame.ix[terms[ind].split(' ')].values.tolist()[0][0].encode('utf-8', 'ignore')\n",
      "        print(' %s' % st_test, end=',')\n",
      "        key_words[i].append(st_test)\n",
      "#         key_words[i]=key_words[i].join(st_test)\n",
      "#         key_words[i]=key_words[i].join('! ')\n",
      "        \n",
      "    print() #add whitespace\n",
      "    print() #add whitespace\n",
      "    \n",
      "    print(\"Cluster %d titles:\" % i, end='')\n",
      "    for title in frame.ix[i]['title']: #.values.tolist():\n",
      "        print(' %s,' % title, end='')\n",
      "    print() #add whitespace\n",
      "    print() #add whitespace\n"
     ],
     "language": "python",
     "metadata": {
      "scrolled": true
     },
     "outputs": [
      {
       "output_type": "stream",
       "stream": "stdout",
       "text": [
        "Top terms per cluster:\n",
        "Cluster 0 words: trump"
       ]
      },
      {
       "output_type": "stream",
       "stream": "stdout",
       "text": [
        ", president"
       ]
      },
      {
       "output_type": "stream",
       "stream": "stdout",
       "text": [
        ", tax"
       ]
      },
      {
       "output_type": "stream",
       "stream": "stdout",
       "text": [
        ", republican"
       ]
      },
      {
       "output_type": "stream",
       "stream": "stdout",
       "text": [
        ", gop"
       ]
      },
      {
       "output_type": "stream",
       "stream": "stdout",
       "text": [
        ", senators"
       ]
      },
      {
       "output_type": "stream",
       "stream": "stdout",
       "text": [
        ",\n",
        "\n",
        "Cluster 0 titles: faith9741, NYCAZ1313, VetKellyUSA, emkaymitty, LaValerina, TaliaTirella, Innsbruckgal, BethAnneTweets, priyacelia, britin17k, LMarciD, Jonathan_oops, BenRemaly, rscottharrison, hopeasuo, Carrie2C2, ewaymire, tag_97225, berman_sid, GaryWGoodwin, toothpasterjim, rscottharrison, sonialovejoy, roguewarde, GameKeeper55, THORACOL, JamesThevening, Dept_DeepState, CCFreemanIII, Joel_Chappelle, libbytaylorHOU, klorson100, cokergirl2, RocKratom, AngryNiteNinja, ChrisMcClinch, MCzerwienski, JDavis99431381, steph_goebel_, collectbalance, palomapoetry, Tamarama520, ATC330R, MalindaMichell1, AnnieOakley2015, RogueTroll1, discjunkie, klorson100, djoretiree, MaribelLuceroS, Cortez81Mario, CKEvans, ldferris, TRusesabagina, m_kirby_d, JennySpad7, moonlite1232, trishgillum, BellaDonna82079, jayverasummer, maryannhare, clover0310, madamefraudonna, audj01, Mliss728,\n",
        "\n",
        "Cluster 1 words: ve"
       ]
      },
      {
       "output_type": "stream",
       "stream": "stdout",
       "text": [
        ", night"
       ]
      },
      {
       "output_type": "stream",
       "stream": "stdout",
       "text": [
        ", ll"
       ]
      },
      {
       "output_type": "stream",
       "stream": "stdout",
       "text": [
        ", w"
       ]
      },
      {
       "output_type": "stream",
       "stream": "stdout",
       "text": [
        ", posts"
       ]
      },
      {
       "output_type": "stream",
       "stream": "stdout",
       "text": [
        ", video"
       ]
      },
      {
       "output_type": "stream",
       "stream": "stdout",
       "text": [
        ",\n",
        "\n",
        "Cluster 1 titles: Isaack_Muthusi, manas__401, FPCityCenter, gray_eth_fijmin, m_sidenersauce, gray_eth_fijmin, m_sidenersauce, STARLIFESTYLE83, BMacSr87, bebe20906, Hey_Minor, EdmEternal, kerryloring, ryanhintze, michaelbodey, carriebyalick, RareCat, charlesbethea, ScottTroy, wickerwich, AndrewTLevinson, theembell, philquinn1, TB12_Forever, AngelaRivier, jennambrai, vishal22392, jenniferbaer, Roisinconaty, AminaNazari, ptg4444, ebertius, rosyngo, mwknobby, jcvsmc, kylecparton, AminaHorozic, maurapagano, holdengraber, KissMyGreens, BennaJumber, halifaxbliss, FilmmakerJulie, katepapas14, DansOnnit, TLoSpeaks, ruairiscriba, copland73, _emmajane_, beerjunkiela, Giorgio_Delgado, CameronWoodward, kfd_4, mossfamily07, ClocheLulu, RedTwerp, PhilThiede, blaine_sprouse, AminaNazari, DroppedGarlic, itsmusky, Alice_Nicole_L, gabriel_rimmer, Heyyshiin, iamkarterlouis, JulieCarmen3, nikkideloach, maddiejoa, JackPhan, AminaHorozic, LorenMcGinnis, clchase, angiebyrdcoach, Calm_Thoughts, jessirosinski, flackjackson, JohnAGraves, KissMyGreens, stovallband, mackieroot, StephHendrix27, TheDennisReedJr, dduncombe, chinkle8706, logicaldope, jackocrackus, clodaghhhh, nancyknight, emilygermano, pai_3142, amylary1999, SuperBlade, djmurfster, mithilesh1289, ramquistwrites, thelilbookwitch, EMFaust, AudreyBrashich, StatelySquirrel, an_eye4style, sneaky_peas, kellywhite34, arthurious, JulianArmaya, gabbycosco, brittanyborden, kifrias, AllisonPillar, melissaFrosen, sshessandyy, ImStillElectric, akire_merca, jaimemanels, ohmyglobbbb, jackiepick, CollFlanJohn, robinfisher, rshanea722, goose2e, t_h_manning,\n",
        "\n",
        "Cluster 2 words: minds"
       ]
      },
      {
       "output_type": "stream",
       "stream": "stdout",
       "text": [
        ", follows"
       ]
      },
      {
       "output_type": "stream",
       "stream": "stdout",
       "text": [
        ", health"
       ]
      },
      {
       "output_type": "stream",
       "stream": "stdout",
       "text": [
        ", u"
       ]
      },
      {
       "output_type": "stream",
       "stream": "stdout",
       "text": [
        ", support"
       ]
      },
      {
       "output_type": "stream",
       "stream": "stdout",
       "text": [
        ", video"
       ]
      },
      {
       "output_type": "stream",
       "stream": "stdout",
       "text": [
        ",\n",
        "\n",
        "Cluster 2 titles: RoyAsksTough, Chasefluhart, eabdelghany74, ChancesOfThat, blingboss98, Lil_Waynes_fan, LevantisBistro, AyatChafaqui, long_trip24, FoamFaces, jamesbtruax77, BonganiMakheth2, sophia_omoh, MopaneMotheo, SarahRobertsFre, sadanah_org, Siyasan35351243, yesinathalie, Jenn98785598, abubinyameen91, RealKingLewis, oguz_srblbl, kingowalter, AdminJeffrey, heavymanmike, kub0kun, kelineb3, Simon_Zach21, echech27, 2piecewebby, drewlongotweets, drewlongotweets, ChetanVaishnaC9, ZebulonEly1, jameshfreeman, ShippingStorm, MacKingFilm, carmenphotos, MichaelMcGuire_, hcrubjeff, NaturesWrath, HershDhillon, Mandlakhula, Scottishdane, Adventune_music, NeysaSanghavi09, MK_official93, PaulaLiverpool9, CarlMathis5, jaymokirima, mdikechukwu1, SurajMi79724833, SamFine17, AndreaEWoods, reflectionhaiku, jodi36, curt1ham, CreativWellness, Truehealthinfo, enigmattiks, hickeycars, kuddussarkar31, OTSauthor, eldergarb, AJEisch, MelanieBadali, MollyArenberg, LaunchOMGum2018, Erikas_LH, BoCoMike, aspringerr78, NatyGang, active_sprit, anke13, VWCoaching, c_keivn, ViryaLifeCoach, AuthorJPorter, LisaJoelle, SocialSyncTech, diviyah, BellaRetreats, LizzieWellness, ChrisRoseCat, CrystalledDream, cecifern, LondnMeditation, repsychl, judiboomergirl, TabathaMccall79, mancidance, WendySWeiss, MichaelMcGuire_, Drikung_Kagyu, SexTwoPointO, ohlordcoyote, FriendlyEyesEN, readyourstars, GrouchyBuddhist, MEinNapa, androojoseff, athinplacefilm, AwakeningJoy, VFX_VIKING, Therapist_Mary, rich_trum, Mirazhosen5, jbjoys, fetesque, Sonalnm, SandraKrystina, haiderammar, adamcarb, Studiolada, itistolleytime, heartfulmindful, PainReliefEssen, rlongw, StephenCooper, CChildhoodFairy, curt1ham, CreativWellness, Truehealthinfo, ann_crawford1, DelanyDelaney, sarahsartlife, jogee_sandeep, RuthSnowden, whysmatter, fifteenkey, JonLeckie, momajumder, Erikas_LH, meagan_heier, WLSA_Psych, BoCoMike, active_sprit, anke13, maryjohnsonRU, saskia220988, table_white, AbbeyRLee, journeyhome7, AlwaysWellWithn, joegraymusic, enigmattiks, RobVena, SocialSyncTech, tneilsonc, diviyah, BellaRetreats, mistifymeplz, LindaNQizur, LizzieWellness, RadmallAndre, theresajgrove, mariamo07922110, CrystalledDream, presentdaypaleo, LilacWinehouse, MothersWhoMake, ChrisRoseCat, MahasattvaFu, repsychl, dannysparker, judiboomergirl, SRVerbit, eddeveikisart, celestewilson2, baby_lex13, bjac65, davidcarson427, ctfairhousing, INDI6_GA, actorsbreak, ayler_marketing, SaintHound, LisaLuxuryHomes, strisland, sojibhsm, JLatwinasAgency, MasterWorksWar, rawsugary, MauraBu61857285, AmandaPisetzner, MattChacks, KnottyKrafter, weirsky, shoaibali7121, MiaSimoneIC, unusual_perfc94, mrfavour6, JackiePeter8, designersamh, KonstanceEunice, SSAutoSpa, Jennahoes1684, UsmanAd24374105, alsaakaliraqia, Boltbaba1, reddya493, Sig195, AbbeypussaCat, susanneanette, BentleyLee2016, Gab3McMillan, kyliecoyote__, berchekas, BrianOt76, TallPoppyWriter, DelilahDArc, veraleann, jepierce16, bethsmithcomedy,\n",
        "\n",
        "Cluster 3 words: data"
       ]
      },
      {
       "output_type": "stream",
       "stream": "stdout",
       "text": [
        ", learn"
       ]
      },
      {
       "output_type": "stream",
       "stream": "stdout",
       "text": [
        ", marketing"
       ]
      },
      {
       "output_type": "stream",
       "stream": "stdout",
       "text": [
        ", read"
       ]
      },
      {
       "output_type": "stream",
       "stream": "stdout",
       "text": [
        ", business"
       ]
      },
      {
       "output_type": "stream",
       "stream": "stdout",
       "text": [
        ", social"
       ]
      },
      {
       "output_type": "stream",
       "stream": "stdout",
       "text": [
        ",\n",
        "\n",
        "Cluster 3 titles: mikerossiii, rezakhorshidi, mearajennifer, seeryanjones, TecFlack, JamieStenziano, onlineoptimism, leftfone, vinestjourney, jefffisherTM, SpeakersMgmt, onelunchbox, Jessyka_Cecilia, stungeye, growthideology, susiehill, DrSusanZoll, StefanPapp, BlueOceanGW, MooreVentureCap, ziz87, NathanLynn962, JCornwall_, sshkri, GoodStephV, Jessyka_Cecilia, susiehill, StefanPapp, jyasinchuk, RaghavSwaminath, homesincincy, VelaKnowsTravel, Jane_Barratt, 2FAMin, StartSmartTX, tamillama, Vanderlisa,\n",
        "\n",
        "Cluster 4 words: lt"
       ]
      },
      {
       "output_type": "stream",
       "stream": "stdout",
       "text": [
        ", e"
       ]
      },
      {
       "output_type": "stream",
       "stream": "stdout",
       "text": [
        ", n"
       ]
      },
      {
       "output_type": "stream",
       "stream": "stdout",
       "text": [
        ", na"
       ]
      },
      {
       "output_type": "stream",
       "stream": "stdout",
       "text": [
        ", u"
       ]
      },
      {
       "output_type": "stream",
       "stream": "stdout",
       "text": [
        ", d"
       ]
      },
      {
       "output_type": "stream",
       "stream": "stdout",
       "text": [
        ",\n",
        "\n",
        "Cluster 4 titles: IdneyGotFans, LazyModexD, MysticHeart333, iLikeSerenity, MiBonev, PatchouliFl0wer, KinanDeJon,\n",
        "\n",
        "Cluster 5 words: en"
       ]
      },
      {
       "output_type": "stream",
       "stream": "stdout",
       "text": [
        ", la"
       ]
      },
      {
       "output_type": "stream",
       "stream": "stdout",
       "text": [
        ", el"
       ]
      },
      {
       "output_type": "stream",
       "stream": "stdout",
       "text": [
        ", los"
       ]
      },
      {
       "output_type": "stream",
       "stream": "stdout",
       "text": [
        ", n"
       ]
      },
      {
       "output_type": "stream",
       "stream": "stdout",
       "text": [
        ", mi"
       ]
      },
      {
       "output_type": "stream",
       "stream": "stdout",
       "text": [
        ",\n",
        "\n",
        "Cluster 5 titles: stayforlukex, jcobo13, Danielltweet, SaporitiF, KalaYarcity, AnabellaSapon5, DarrisMost,\n",
        "\n",
        "Cluster 6 words: mi"
       ]
      },
      {
       "output_type": "stream",
       "stream": "stdout",
       "text": [
        ", apple"
       ]
      },
      {
       "output_type": "stream",
       "stream": "stdout",
       "text": [
        ", football"
       ]
      },
      {
       "output_type": "stream",
       "stream": "stdout",
       "text": [
        ", court"
       ]
      },
      {
       "output_type": "stream",
       "stream": "stdout",
       "text": [
        ", lawe"
       ]
      },
      {
       "output_type": "stream",
       "stream": "stdout",
       "text": [
        ", running"
       ]
      },
      {
       "output_type": "stream",
       "stream": "stdout",
       "text": [
        ",\n",
        "\n",
        "Cluster 6 titles: tlhill08, josephmilowic, josephmilowic, PremStatsnet, UTgirl_09,\n",
        "\n",
        "Cluster 7 words: trump"
       ]
      },
      {
       "output_type": "stream",
       "stream": "stdout",
       "text": [
        ", president"
       ]
      },
      {
       "output_type": "stream",
       "stream": "stdout",
       "text": [
        ", white"
       ]
      },
      {
       "output_type": "stream",
       "stream": "stdout",
       "text": [
        ", votes"
       ]
      },
      {
       "output_type": "stream",
       "stream": "stdout",
       "text": [
        ", american"
       ]
      },
      {
       "output_type": "stream",
       "stream": "stdout",
       "text": [
        ", women"
       ]
      },
      {
       "output_type": "stream",
       "stream": "stdout",
       "text": [
        ",\n",
        "\n",
        "Cluster 7 titles: manianca, reemadamin, salino79, jbsgreenberg, cjjohnsonjr, mkelemen16, TavisBurns, LorraineAli, NancyRomm, HudakZak, Joe_Hurwitz, TeeDubs16, sakesofmercy, EthanHarpNews, BenBWinsor, MicahInstitute, altSaguaroNPS, carmondos, yuv_media, AlejandroVale47, btpanko, jimdao, jmjwest, Cam_Cawthorne, samnurick, dz_schwartz, RodRosenstine, Tojanaka, 3schuh, jennaenema, LFOD_NH, StephenBrennan6, rmgbuddha, beccabollingmo, BaldassareUrban, 3schuh, jennaenema, Idealist_Mc, PettyVendetta, StephenBrennan6, billyrstanley, LoriGriffiths, DrLSDPittman, a_annierae, bionickoi, coachSmalls86, BlaneMall, may_gilmer212, 3Tolman, Steve0neil, rebeccacademy, jdandersonct, gwagaphoto, kellegraha, KelleyBirney, GeekHillbilly, MurriBrielIL16, DougKass, SproutHerder, MrGrizzan, julieannewells, Cam_Fox_2020, timiljones, search4good, NeedsMoreChill, TheHeatherEss, NinoZeno, JxParks, nightnurse93, carmenye_, oldmanflower, AkilahCams, KimberlyMailhot, ForwardMarching, JanieceJohnson, kaytiemlee, JordanMSoto, thekeeliasilvis, windandraynn, MsSuperior1, CagnolattiEdie, DannyPKC, TheLauraHarmon, johnpzane, MikeQuinlivan1, barbarellalynn,\n",
        "\n",
        "Cluster 8 words: u"
       ]
      },
      {
       "output_type": "stream",
       "stream": "stdout",
       "text": [
        ", fuck"
       ]
      },
      {
       "output_type": "stream",
       "stream": "stdout",
       "text": [
        ", na"
       ]
      },
      {
       "output_type": "stream",
       "stream": "stdout",
       "text": [
        ", shit"
       ]
      },
      {
       "output_type": "stream",
       "stream": "stdout",
       "text": [
        ", girl"
       ]
      },
      {
       "output_type": "stream",
       "stream": "stdout",
       "text": [
        ", someone"
       ]
      },
      {
       "output_type": "stream",
       "stream": "stdout",
       "text": [
        ",\n",
        "\n",
        "Cluster 8 titles: MarkHJr1221, Datdudetezb, hanson_julia, ains_varin, YungSav100, bruhbeastmode, Capt_Amalik, ConnorJon_, via_jim29, MsLillianaRose, yagurlmm, JakeGrady96, zaynwhatsgood, marjorieanaa, milli_FBABYY, tomcawdron97, emily_west55, yagurlmm, JakeGrady96, Scoewilldo, SuperBadRob, PreciTucker, Makaveli_ThaDom, Madisontowl__, EdaraBabyG, NOREAN_GOT_JOY7, ERiNANNAMED, moultonPb, dare_rambo, MOGREENFOREVER, malachi_martin5, NicoVail97, doped7, 29Deasene, scoku_, 1deephaters, Josevedo, IchiGhost585, MrDrProfMech, CuttinLikeDJ, AaronYoungBull, WolfgangAn, the_callaMan, imhalesss, TheTrxppytrini, koistaaa, torrance_wf, jackie_buono, Patty_Fo_ReAL, UrsusCaeli, anjuhhhh, SeenKurnan, A_Deexo, ohh_meg, Worst_Behav1or, Linds_42, nikkisap, lizkk20, aparadiseaway, beautiful_loon, smallwitchbabe, emceehaych, quartertothree, mcadams_leeann, GigglyGhuleh, koconnell_25,\n",
        "\n",
        "Cluster 9 words: game"
       ]
      },
      {
       "output_type": "stream",
       "stream": "stdout",
       "text": [
        ", playing"
       ]
      },
      {
       "output_type": "stream",
       "stream": "stdout",
       "text": [
        ", wins"
       ]
      },
      {
       "output_type": "stream",
       "stream": "stdout",
       "text": [
        ", team"
       ]
      },
      {
       "output_type": "stream",
       "stream": "stdout",
       "text": [
        ", players"
       ]
      },
      {
       "output_type": "stream",
       "stream": "stdout",
       "text": [
        ", football"
       ]
      },
      {
       "output_type": "stream",
       "stream": "stdout",
       "text": [
        ",\n",
        "\n",
        "Cluster 9 titles: cohen_burgess, KWright387, mcbroomfield, P_Dawg32, Muhammed_LFC, TheRealMcCauley, ToddEames, DinoCook7, JimmyClare, Travissooner23, iamxangel, SportNews954, OG_EMINizzle, Ross_TheBoss21, gwilyfromphilly, gnefitness, Mr_Jumpman023, DishSwish, PTGreek28, AirFares27, Chris_Roat, Patty_Bombay91, David_tins13, Henryyee13, Glynner14, evanalvarado29, CottrellKirk, jcoots78, AndyKoerner26, truenole4, DjOlums, gagan__mann, Sebass1518, MLShocker, jeauxypatton, sportsreiter, TollyTaylor, BrianHofmann, johnanin_, Truplay3r_, Spencer_Kane24, nateolsen_, 10_sumnerF, RLBPodcast, jamesyboy260400, ianmichael24, dougk1216, lmport3d, AndyKoerner26, aqua_okra, BeauHoward, amrhashem32, connorbarber20, ShrugMonster,\n",
        "\n"
       ]
      }
     ],
     "prompt_number": 31
    },
    {
     "cell_type": "code",
     "collapsed": false,
     "input": [
      "\n",
      "for i in range(len(key_words)):\n",
      "    key_words[i]=','.join(key_words[i])\n",
      "print(key_words[0])"
     ],
     "language": "python",
     "metadata": {},
     "outputs": [
      {
       "output_type": "stream",
       "stream": "stdout",
       "text": [
        "trump,president,tax,republican,gop,senators\n"
       ]
      }
     ],
     "prompt_number": 32
    },
    {
     "cell_type": "code",
     "collapsed": false,
     "input": [
      "\n",
      "similarity_distance = 1 - cosine_similarity(tfidf_matrix)\n",
      "print(type(similarity_distance))\n",
      "print(similarity_distance.shape)"
     ],
     "language": "python",
     "metadata": {},
     "outputs": [
      {
       "output_type": "stream",
       "stream": "stdout",
       "text": [
        "<type 'numpy.ndarray'>\n",
        "(661, 661)\n"
       ]
      }
     ],
     "prompt_number": 33
    },
    {
     "cell_type": "code",
     "collapsed": false,
     "input": [
      "import os  # for os.path.basename\n",
      "\n",
      "import matplotlib.pyplot as plt\n",
      "import matplotlib as mpl\n",
      "\n",
      "from sklearn.manifold import MDS\n",
      "\n",
      "# convert two components as we're plotting points in a two-dimensional plane\n",
      "# \"precomputed\" because we provide a distance matrix\n",
      "# we will also specify `random_state` so the plot is reproducible.\n",
      "mds = MDS(n_components=2, dissimilarity=\"precomputed\", random_state=1)\n",
      "\n",
      "%time pos = mds.fit_transform(similarity_distance)  # shape (n_components, n_samples)\n",
      "\n",
      "print(pos.shape)\n",
      "print(pos)\n",
      "\n",
      "xs, ys = pos[:, 0], pos[:, 1]\n",
      "#print(type(xs))\n",
      "xs"
     ],
     "language": "python",
     "metadata": {
      "scrolled": true
     },
     "outputs": [
      {
       "output_type": "stream",
       "stream": "stdout",
       "text": [
        "CPU times: user 15.7 s, sys: 27 s, total: 42.7 s\n",
        "Wall time: 10.7 s\n",
        "(661, 2)\n",
        "[[ 0.02262144  0.31494146]\n",
        " [-0.59651807 -0.42553142]\n",
        " [-0.15332385 -0.34589351]\n",
        " ..., \n",
        " [-0.1284546   0.34904191]\n",
        " [-0.51826592  0.26140138]\n",
        " [-0.42271417  0.23632359]]\n"
       ]
      },
      {
       "metadata": {},
       "output_type": "pyout",
       "prompt_number": 34,
       "text": [
        "array([  2.26214371e-02,  -5.96518066e-01,  -1.53323848e-01,\n",
        "         8.47663295e-02,   2.51249159e-01,  -1.56545901e-01,\n",
        "        -2.27678863e-01,  -3.57501774e-01,   4.85881810e-01,\n",
        "         1.30208155e-01,   6.18747635e-01,   4.05296268e-02,\n",
        "        -1.05962502e-01,   4.19745981e-01,   5.76841594e-01,\n",
        "         2.38867534e-02,   2.67368750e-01,   1.35573114e-01,\n",
        "        -1.71832032e-01,   1.51381502e-01,   4.03624757e-01,\n",
        "         5.17414551e-01,   3.72631032e-01,   5.96103252e-01,\n",
        "         8.08328618e-02,   4.21366617e-01,   2.99342364e-01,\n",
        "         4.14213701e-01,   8.06905743e-02,   3.88382245e-01,\n",
        "         1.21194940e-01,   5.72788030e-01,   4.10209932e-01,\n",
        "         6.00370125e-01,   5.16041733e-01,   1.36704350e-01,\n",
        "         1.20269598e-01,  -2.61146590e-01,   2.49291341e-01,\n",
        "         6.27554082e-01,   3.35242439e-01,   6.32921813e-01,\n",
        "        -9.10269505e-02,   5.44829971e-01,   5.85497795e-01,\n",
        "         4.21366589e-01,  -4.59159282e-01,   4.87339287e-01,\n",
        "         6.00370135e-01,   1.36234015e-01,  -1.85626660e-01,\n",
        "         4.99363548e-01,   7.61726365e-01,   1.01627725e-01,\n",
        "        -5.79910949e-02,  -4.67207856e-01,   7.84095325e-01,\n",
        "        -1.51760854e-01,   6.66254803e-01,   4.58312076e-01,\n",
        "         5.58247641e-01,  -2.34247473e-01,   4.02151388e-01,\n",
        "         6.01393886e-01,   1.91767793e-02,   3.36989002e-01,\n",
        "         1.78810276e-01,   7.14374609e-01,   3.81489310e-01,\n",
        "         7.46743262e-01,   1.56635739e-01,   1.64015836e-01,\n",
        "         4.97920111e-01,   1.43464141e-01,   3.00096829e-01,\n",
        "        -4.21755945e-01,   2.37709368e-01,   3.03347512e-01,\n",
        "         1.42252352e-01,   1.49895065e-02,   4.30275607e-01,\n",
        "         3.76045407e-01,  -4.71594282e-01,   3.71207848e-01,\n",
        "         5.36643175e-01,   4.83508180e-01,   3.16068412e-01,\n",
        "         7.37656994e-01,   1.83738236e-01,   2.28657057e-01,\n",
        "        -2.09082112e-01,   3.98390608e-02,   4.59246836e-01,\n",
        "         2.24861895e-01,   3.67885837e-01,   2.16035319e-01,\n",
        "         6.55523256e-01,   5.09866831e-01,  -1.33057801e-01,\n",
        "        -4.14013126e-01,   3.55604742e-01,   2.47692788e-01,\n",
        "        -2.49411277e-01,   6.82194084e-01,   7.14961596e-01,\n",
        "         9.10243459e-02,   2.95005469e-02,   2.19117688e-01,\n",
        "         4.74517508e-01,   2.97015150e-01,   2.68672001e-01,\n",
        "         4.22635854e-01,   3.70601580e-01,  -4.35984183e-01,\n",
        "         3.84470740e-01,  -2.18468300e-01,   3.26570853e-01,\n",
        "         2.81933181e-01,   1.35457641e-01,  -7.80654961e-05,\n",
        "         4.20886093e-01,   2.73980101e-01,   5.70352542e-01,\n",
        "         4.74429924e-02,   4.47760994e-01,   1.72727485e-01,\n",
        "        -2.42718625e-01,   2.95367342e-01,   6.36434262e-01,\n",
        "        -3.01962648e-01,  -1.29268092e-01,  -3.39843800e-02,\n",
        "         1.29982548e-01,  -4.10996337e-01,  -2.71501839e-01,\n",
        "        -4.65490154e-02,  -3.15663933e-02,   8.65152004e-01,\n",
        "         5.11089671e-02,  -6.60180037e-01,   2.46119075e-01,\n",
        "        -1.34452029e-01,  -1.59785647e-01,   2.15976744e-01,\n",
        "        -5.38289979e-01,  -4.49292413e-01,  -3.10396880e-01,\n",
        "        -6.20342562e-02,   2.05337861e-01,  -1.56511550e-01,\n",
        "         1.53394812e-01,  -1.44341459e-01,  -1.24235959e-01,\n",
        "         1.39268477e-01,  -6.75173799e-01,  -6.67639970e-02,\n",
        "        -2.64055722e-01,  -3.94502756e-01,  -3.98503949e-02,\n",
        "        -4.32903437e-01,  -2.87928030e-01,  -3.97410104e-01,\n",
        "        -3.69166078e-01,  -2.65500676e-01,  -3.61135869e-01,\n",
        "         1.45959994e-01,  -3.79310074e-01,  -1.28106737e-01,\n",
        "        -3.54734408e-01,   3.21493356e-01,  -5.25241964e-01,\n",
        "        -1.43057259e-01,  -3.86900697e-01,  -6.58451612e-02,\n",
        "        -4.39759404e-01,  -5.56386368e-01,   6.08845500e-02,\n",
        "        -2.66065695e-01,  -4.66858000e-01,  -2.11936803e-01,\n",
        "         1.08362568e-01,  -3.47957605e-01,  -7.58684608e-02,\n",
        "        -3.05779355e-01,  -3.54655216e-01,  -4.62312809e-01,\n",
        "        -2.50078801e-01,  -5.62907964e-01,  -2.70993407e-01,\n",
        "         3.64895208e-02,  -2.92550695e-01,  -2.09223803e-01,\n",
        "        -6.11880696e-02,  -4.33896086e-01,  -9.72329953e-02,\n",
        "        -4.52760516e-01,  -4.05528272e-01,   6.14310582e-02,\n",
        "        -4.76723325e-01,   5.69832341e-01,   8.02365567e-01,\n",
        "        -3.42889376e-01,   2.31295755e-01,   1.93767144e-01,\n",
        "         3.12220284e-01,   5.31094899e-01,   7.12339989e-01,\n",
        "         4.95502686e-01,   3.30166745e-01,   1.65648741e-01,\n",
        "         3.30311726e-01,   3.01883297e-01,   1.95989534e-01,\n",
        "         7.00353668e-02,   7.91107947e-02,  -4.47764492e-01,\n",
        "        -2.01080743e-01,   5.56961724e-01,   5.91926777e-02,\n",
        "         1.70055241e-01,   2.39701434e-01,   5.27568019e-02,\n",
        "         6.36699122e-01,  -3.34328855e-01,  -5.76801809e-01,\n",
        "         6.38790042e-02,   2.79415635e-01,   3.28681202e-01,\n",
        "         6.83925153e-01,  -4.81083087e-01,   1.33108314e-01,\n",
        "         5.02705736e-01,  -4.63242379e-01,   6.03015572e-01,\n",
        "         1.64813591e-03,  -4.96084129e-01,   3.91143744e-01,\n",
        "        -4.79926749e-01,  -7.83391259e-02,  -9.73353201e-02,\n",
        "        -5.17698477e-01,   1.40508111e-01,   3.19684342e-01,\n",
        "         3.05709639e-01,  -2.07270943e-01,  -4.98444023e-01,\n",
        "        -2.84486507e-01,   2.09357258e-01,   6.35861325e-02,\n",
        "         2.21120850e-01,  -3.91531208e-01,   7.59683676e-02,\n",
        "        -4.25709912e-01,   5.39425604e-01,  -2.51485978e-01,\n",
        "         2.41309873e-01,  -3.88387549e-01,   6.17485630e-01,\n",
        "         4.76990059e-01,  -1.86897857e-01,   5.00814908e-01,\n",
        "         1.64481497e-02,   3.77732453e-02,  -8.32747433e-02,\n",
        "        -1.10282481e-01,   4.22677042e-02,  -6.26459498e-01,\n",
        "        -5.58402159e-01,   3.80121590e-01,   2.40640138e-01,\n",
        "         4.67709709e-01,  -4.89880319e-02,  -4.37177414e-03,\n",
        "         3.91735717e-01,   1.03553678e-01,   2.47507563e-01,\n",
        "        -4.20305622e-01,  -1.26322622e-01,  -5.76245510e-01,\n",
        "        -6.72264575e-03,  -1.53569995e-01,   6.72384666e-01,\n",
        "         4.18169269e-01,   5.07125114e-02,  -5.30466329e-01,\n",
        "         4.62674163e-02,  -1.05114090e-01,   5.46713137e-01,\n",
        "        -2.30789605e-01,   1.59233081e-01,   7.72837901e-01,\n",
        "        -7.75053369e-04,   2.43467611e-01,   6.61278967e-01,\n",
        "        -1.53992894e-01,   3.39752620e-03,  -3.14936222e-01,\n",
        "         2.15393913e-01,   2.65635765e-01,  -3.64833544e-01,\n",
        "         1.57453844e-01,  -6.79923035e-01,  -8.40202147e-02,\n",
        "         4.37094647e-01,   1.51984215e-01,   6.15535628e-01,\n",
        "         5.92643314e-01,   1.51411361e-01,  -1.99123098e-01,\n",
        "        -4.10465160e-01,   2.29216758e-01,   2.40553893e-01,\n",
        "         3.40771063e-01,   6.34541638e-01,   5.80385611e-02,\n",
        "        -2.89346619e-01,   6.89999496e-01,  -2.99051066e-02,\n",
        "        -3.86259692e-02,  -6.79931700e-01,   1.78873820e-01,\n",
        "        -2.91869628e-01,  -1.32204855e-02,  -6.68720912e-01,\n",
        "        -5.76064920e-01,   1.35894766e-01,   3.68106751e-01,\n",
        "         5.91078650e-01,   4.14464777e-01,   2.36237895e-01,\n",
        "         3.23824531e-01,   5.40622422e-01,   8.86710320e-02,\n",
        "        -1.00386897e-01,   5.51636411e-01,  -4.82093520e-01,\n",
        "         3.42433352e-01,   4.54203746e-01,  -2.34095887e-01,\n",
        "         8.09546059e-02,  -3.75866066e-01,  -7.68186740e-02,\n",
        "         3.60573294e-01,   4.80080503e-01,   2.38158556e-01,\n",
        "        -2.57439633e-01,   3.26386238e-01,  -4.57530409e-01,\n",
        "        -8.18898752e-02,  -5.99961259e-02,  -5.48880290e-01,\n",
        "        -4.67180829e-02,  -1.41617934e-01,  -6.72213798e-01,\n",
        "         3.88574497e-01,  -4.81083087e-01,   2.63248338e-01,\n",
        "        -4.63242377e-01,   3.45140000e-01,   4.91998318e-01,\n",
        "        -1.47118625e-01,  -2.79760146e-01,   7.43338128e-01,\n",
        "        -4.96085643e-01,   3.92190034e-01,  -4.79935751e-01,\n",
        "         1.36497555e-01,  -7.83391258e-02,   2.22283589e-01,\n",
        "        -5.36895829e-01,   6.03094888e-01,   6.87413460e-02,\n",
        "        -1.22053896e-01,   6.99233606e-01,   4.12333368e-01,\n",
        "        -3.76101650e-01,   1.61442860e-01,   5.36476698e-02,\n",
        "         1.95547097e-01,   7.14382873e-02,  -2.17123855e-01,\n",
        "         1.01464522e-01,  -2.07270943e-01,   5.18166903e-01,\n",
        "         2.34787723e-01,   1.53001075e-01,  -3.30425959e-01,\n",
        "         2.38330102e-01,  -3.37957353e-01,   1.33552373e-01,\n",
        "        -3.41205463e-01,  -6.50432354e-01,   4.65015011e-01,\n",
        "         1.77790767e-01,   1.41497829e-01,   8.32790741e-02,\n",
        "         7.93718235e-02,   4.01259081e-01,   6.04319290e-02,\n",
        "        -2.64757570e-01,   5.20300249e-01,   1.64481497e-02,\n",
        "         3.16268296e-01,  -3.55585374e-01,  -6.31186489e-01,\n",
        "        -5.24974341e-01,   2.66678606e-01,   6.47788011e-01,\n",
        "        -5.78034327e-01,  -9.20493237e-02,   6.41247012e-01,\n",
        "         6.18301914e-01,  -1.26322283e-01,  -1.67137002e-01,\n",
        "        -4.89880319e-02,  -3.28687472e-03,  -2.71910864e-02,\n",
        "         4.74546473e-01,  -1.13131241e-01,  -1.36527494e-01,\n",
        "         2.62403901e-02,   4.42559460e-01,   7.38288250e-01,\n",
        "        -5.43851757e-02,   1.27668107e-01,   2.64816930e-01,\n",
        "         6.67985793e-02,   2.89864928e-01,   5.34250710e-01,\n",
        "        -1.92154008e-01,  -5.69302790e-01,   4.17327990e-01,\n",
        "         2.85867286e-01,   3.84012751e-01,   6.65498530e-01,\n",
        "         3.15735660e-02,   3.25861558e-01,  -1.08359651e-01,\n",
        "        -6.42945551e-01,   4.62674165e-02,  -6.52298488e-02,\n",
        "         9.67820840e-02,   5.58732478e-01,  -6.36763641e-02,\n",
        "         4.68418637e-01,  -4.09136449e-01,  -3.84782969e-01,\n",
        "        -1.47382866e-01,  -5.96732065e-01,  -5.31210822e-01,\n",
        "        -6.76661166e-02,  -3.64129895e-01,   2.23193299e-01,\n",
        "        -7.75028502e-04,  -4.14733722e-01,  -2.73864624e-01,\n",
        "         2.43489031e-01,   6.67265671e-01,   2.16353427e-01,\n",
        "        -6.40213110e-01,  -2.30599049e-01,  -2.32627963e-01,\n",
        "         2.40863779e-01,  -3.27475033e-01,  -3.00028192e-01,\n",
        "        -2.38370093e-01,   3.09507366e-02,  -3.45113926e-01,\n",
        "        -2.28939495e-01,  -7.33151809e-02,  -6.27405897e-01,\n",
        "        -3.51391615e-01,  -3.81071276e-01,   1.62634472e-01,\n",
        "        -3.78081596e-01,  -2.94715936e-01,  -5.00651868e-01,\n",
        "        -6.39221669e-01,  -2.10192944e-01,  -4.14489305e-01,\n",
        "        -4.03136598e-01,  -3.98207463e-01,  -3.33350557e-01,\n",
        "        -5.72911680e-02,   8.20414059e-01,   8.68070108e-03,\n",
        "        -4.54152953e-01,  -1.83519393e-01,  -2.78285968e-02,\n",
        "         2.22674899e-01,  -3.64111929e-01,  -5.59341893e-01,\n",
        "        -7.10610614e-01,   2.84420507e-01,  -4.43934409e-02,\n",
        "        -3.01726167e-01,  -4.55182523e-01,   1.31126697e-02,\n",
        "        -6.32147058e-01,  -6.17866591e-01,  -2.85052078e-01,\n",
        "         4.79264061e-01,  -3.38470608e-01,  -1.24666945e-01,\n",
        "         9.82552747e-03,   2.45302530e-01,   2.22664951e-01,\n",
        "        -3.58923573e-01,  -4.18444667e-01,  -1.55996133e-01,\n",
        "        -6.00669601e-02,  -2.97157315e-01,  -4.97767500e-01,\n",
        "         7.06109253e-01,  -3.39185437e-01,  -3.72479577e-01,\n",
        "        -2.64736715e-01,   4.90700801e-01,   2.02554818e-01,\n",
        "        -5.65302696e-01,   2.64855924e-02,   9.93429753e-02,\n",
        "        -4.85020978e-01,   6.50764424e-01,   7.61276121e-01,\n",
        "        -4.16192071e-01,  -3.18235069e-01,  -5.38838421e-01,\n",
        "        -5.14489758e-01,  -5.16005484e-01,   1.30572419e-01,\n",
        "        -5.04203150e-01,  -1.61064504e-01,   1.09726076e-01,\n",
        "         5.94367154e-01,  -5.48664779e-01,  -6.12935936e-01,\n",
        "         6.74602642e-01,   5.31902930e-01,  -1.10335090e-02,\n",
        "         2.75098529e-01,   1.88783296e-01,  -5.54508404e-01,\n",
        "        -1.03658522e-01,  -4.43508496e-02,  -3.21792344e-01,\n",
        "        -1.15448691e-01,  -4.10288868e-01,   6.09095467e-03,\n",
        "        -6.39572821e-01,   4.19978164e-01,  -2.93349919e-01,\n",
        "        -4.41005653e-01,  -3.21046039e-01,   5.88291495e-01,\n",
        "        -7.36883034e-01,  -2.99258207e-01,  -4.49162097e-01,\n",
        "        -8.49732611e-02,  -5.22106761e-02,  -7.01410112e-01,\n",
        "         5.03079158e-01,  -4.68262217e-01,  -5.59341893e-01,\n",
        "         4.21699763e-01,  -5.72427765e-01,  -6.81557818e-01,\n",
        "        -7.26206821e-01,   6.35803688e-01,  -6.85343174e-01,\n",
        "        -3.48546658e-01,  -5.05862269e-01,  -2.55353384e-01,\n",
        "        -2.74955186e-01,  -2.26336399e-01,   2.92690518e-01,\n",
        "        -2.73158800e-01,   3.88399635e-01,  -5.22679660e-01,\n",
        "        -2.79767188e-02,  -6.17909636e-01,  -1.33704607e-02,\n",
        "        -2.34069304e-01,  -5.81353619e-01,  -1.41823540e-01,\n",
        "         2.07547202e-02,  -1.02245321e-01,  -2.65730521e-01,\n",
        "        -4.41408885e-02,   1.27748361e-01,  -1.15254032e-01,\n",
        "        -8.95624915e-02,  -3.35038520e-01,  -4.35165825e-01,\n",
        "        -4.23953741e-01,   1.75819546e-01,  -4.81988310e-01,\n",
        "         1.16749555e-01,  -4.97055176e-01,  -5.03470332e-01,\n",
        "        -5.54075537e-01,   1.87605519e-01,  -4.85078651e-01,\n",
        "         1.23491721e-01,   4.57328728e-01,  -5.72875800e-01,\n",
        "         1.06195591e-01,   1.34413429e-01,  -4.06046624e-01,\n",
        "         2.64827176e-01,   1.17308336e-01,  -4.64629075e-01,\n",
        "         3.22534745e-01,   1.46382393e-01,  -5.10551003e-01,\n",
        "        -5.88103154e-01,  -4.76709315e-01,  -3.59867229e-01,\n",
        "        -2.18881345e-01,  -2.98771714e-02,  -3.59076356e-01,\n",
        "        -3.06681531e-01,  -6.65984111e-01,  -1.60331543e-01,\n",
        "        -6.79050774e-02,  -4.48714364e-01,  -1.69366943e-02,\n",
        "        -5.77025817e-01,   2.65370994e-01,  -2.14967200e-01,\n",
        "        -4.33191420e-01,   6.69443395e-01,   5.17803989e-02,\n",
        "         4.03993646e-01,   4.18171151e-01,  -2.35831891e-01,\n",
        "         4.97174398e-02,  -2.31672562e-01,  -1.13818876e-01,\n",
        "        -2.91207034e-01,   6.29140217e-01,   6.64016947e-02,\n",
        "        -3.47178883e-01,  -3.62895706e-01,  -5.22820019e-02,\n",
        "        -3.99384364e-01,   3.40310974e-01,  -3.55447590e-02,\n",
        "        -1.75074519e-01,  -3.55668401e-02,   1.29339623e-01,\n",
        "        -4.43856140e-01,  -3.37408529e-01,   1.55576742e-01,\n",
        "        -4.45185479e-01,   3.87997289e-02,  -1.86883570e-01,\n",
        "         1.62559725e-02,  -1.28454602e-01,  -5.18265919e-01,\n",
        "        -4.22714174e-01])"
       ]
      }
     ],
     "prompt_number": 34
    },
    {
     "cell_type": "code",
     "collapsed": false,
     "input": [
      "res_test = { 'title': titles,  'cluster': clusters,'location':locats, 'x_pos':xs,'y_pos':ys }\n",
      "\n",
      "res_frame = pd.DataFrame(res_test , columns = ['title', 'cluster','location','x_pos','y_pos'])\n",
      "\n",
      "print(res_frame) # here the ranking is still 0 to 99\n",
      "\n",
      "res_frame['cluster'].value_counts() #number of films per cluster (clusters from 0 to 4)\n",
      "res_frame.to_csv('res_test_2.csv',index=False)"
     ],
     "language": "python",
     "metadata": {
      "scrolled": true
     },
     "outputs": [
      {
       "output_type": "stream",
       "stream": "stdout",
       "text": [
        "               title  cluster                        location     x_pos  \\\n",
        "0        mikerossiii        3              Kitchener, Ontario  0.022621   \n",
        "1       RoyAsksTough        2                Bengaluru, India -0.596518   \n",
        "2     Isaack_Muthusi        1                         NAIROBI -0.153324   \n",
        "3       Chasefluhart        2                 Los Angeles, CA  0.084766   \n",
        "4        MarkHJr1221        8                      Toledo, OH  0.251249   \n",
        "5      rezakhorshidi        3               Oxford/London, UK -0.156546   \n",
        "6      cohen_burgess        9              West Virginia, USA -0.227679   \n",
        "7      eabdelghany74        2                        abudhabi -0.357502   \n",
        "8         KWright387        9                   Liverpool, NY  0.485882   \n",
        "9       mcbroomfield        9                   United States  0.130208   \n",
        "10          P_Dawg32        9                   Missouri, USA  0.618748   \n",
        "11     ChancesOfThat        2      West Texas A&M University   0.040530   \n",
        "12     mearajennifer        3                     Oakland, CA -0.105963   \n",
        "13       blingboss98        2                Harare, Zimbabwe  0.419746   \n",
        "14       Datdudetezb        8                         finland  0.576842   \n",
        "15      Muhammed_LFC        9             Warrington, England  0.023887   \n",
        "16      hanson_julia        8                        WI // MO  0.267369   \n",
        "17   TheRealMcCauley        9    University of Louisville '18  0.135573   \n",
        "18          manianca        7                             EST -0.171832   \n",
        "19        ains_varin        8                 London, Ontario  0.151382   \n",
        "20        manas__401        1                 Faizabad, India  0.403625   \n",
        "21      FPCityCenter        1                Philadelphia, PA  0.517415   \n",
        "22        YungSav100        8                       WORLDWIDE  0.372631   \n",
        "23    Lil_Waynes_fan        2                            Mars  0.596103   \n",
        "24     bruhbeastmode        8                   United States  0.080833   \n",
        "25   gray_eth_fijmin        1                         England  0.421367   \n",
        "26       Capt_Amalik        8                            Gaol  0.299342   \n",
        "27    LevantisBistro        2                  Pittsburgh, PA  0.414214   \n",
        "28        ConnorJon_        8                      Dallas, TX  0.080691   \n",
        "29         ToddEames        9                    Billings, MT  0.388382   \n",
        "..               ...      ...                             ...       ...   \n",
        "631        veraleann        2                      Dallas, TX  0.669443   \n",
        "632       emceehaych        8                  Birmingham, UK  0.051780   \n",
        "633  ImStillElectric        1                      Dallas, TX  0.403994   \n",
        "634      akire_merca        1                     Chicago, IL  0.418171   \n",
        "635   CagnolattiEdie        7              New Orleans baby!! -0.235832   \n",
        "636   quartertothree        8                    Georgia, USA  0.049717   \n",
        "637       jepierce16        2                      Boston, MA -0.231673   \n",
        "638         DannyPKC        7                     Wichita, KS -0.113819   \n",
        "639       clover0310        0                Aurora, Illinois -0.291207   \n",
        "640   mcadams_leeann        8                  mobile alabama  0.629140   \n",
        "641      jaimemanels        1                    new york, ny  0.066402   \n",
        "642  madamefraudonna        0                     Los Angeles -0.347179   \n",
        "643   TheLauraHarmon        7                     Waldorf, MD -0.362896   \n",
        "644     GigglyGhuleh        8      Massassi Outpost, Yavin IV -0.052282   \n",
        "645           audj01        0           Upstate New York, USA -0.399384   \n",
        "646      ohmyglobbbb        1               Brighton, England  0.340311   \n",
        "647       jackiepick        1                   United States -0.035545   \n",
        "648     CollFlanJohn        1               West Hartford, CT -0.175075   \n",
        "649      robinfisher        1                  Louisville, KY -0.035567   \n",
        "650       rshanea722        1                             NYC  0.129340   \n",
        "651        johnpzane        7                   United States -0.443856   \n",
        "652          goose2e        1               East Setauket, NY -0.337409   \n",
        "653       Vanderlisa        3                         Seattle  0.155577   \n",
        "654         Mliss728        0  U S Freakin' Aint you business -0.445185   \n",
        "655      t_h_manning        1                    Portland, OR  0.038800   \n",
        "656  bethsmithcomedy        2                Johnson City, TN -0.186884   \n",
        "657     koconnell_25        8                 los angeles, ca  0.016256   \n",
        "658     ShrugMonster        9                  Regina, Canada -0.128455   \n",
        "659   MikeQuinlivan1        7                 Sioux Falls, SD -0.518266   \n",
        "660   barbarellalynn        7               Squidville, USofA -0.422714   \n",
        "\n",
        "        y_pos  \n",
        "0    0.314941  \n",
        "1   -0.425531  \n",
        "2   -0.345894  \n",
        "3   -0.668604  \n",
        "4   -0.348378  \n",
        "5    0.447407  \n",
        "6    0.548995  \n",
        "7    0.758560  \n",
        "8   -0.009883  \n",
        "9   -0.615799  \n",
        "10   0.330532  \n",
        "11   0.634718  \n",
        "12   0.416810  \n",
        "13  -0.655665  \n",
        "14  -0.230067  \n",
        "15  -0.692007  \n",
        "16  -0.129510  \n",
        "17  -0.103558  \n",
        "18  -0.019015  \n",
        "19  -0.080873  \n",
        "20   0.000172  \n",
        "21   0.293982  \n",
        "22  -0.254460  \n",
        "23  -0.220621  \n",
        "24  -0.313557  \n",
        "25  -0.084611  \n",
        "26  -0.232333  \n",
        "27  -0.699561  \n",
        "28  -0.133963  \n",
        "29   0.159326  \n",
        "..        ...  \n",
        "631  0.294697  \n",
        "632 -0.027073  \n",
        "633  0.093834  \n",
        "634  0.108046  \n",
        "635  0.268739  \n",
        "636 -0.091178  \n",
        "637 -0.572589  \n",
        "638 -0.033459  \n",
        "639 -0.026817  \n",
        "640 -0.153982  \n",
        "641  0.112832  \n",
        "642  0.008068  \n",
        "643  0.020036  \n",
        "644 -0.025204  \n",
        "645 -0.002180  \n",
        "646  0.118915  \n",
        "647  0.027997  \n",
        "648  0.256776  \n",
        "649 -0.155811  \n",
        "650  0.129855  \n",
        "651  0.113462  \n",
        "652 -0.319980  \n",
        "653  0.733118  \n",
        "654  0.023647  \n",
        "655 -0.267869  \n",
        "656 -0.452780  \n",
        "657  0.483843  \n",
        "658  0.349042  \n",
        "659  0.261401  \n",
        "660  0.236324  \n",
        "\n",
        "[661 rows x 5 columns]\n"
       ]
      }
     ],
     "prompt_number": 35
    },
    {
     "cell_type": "code",
     "collapsed": false,
     "input": [
      "#set up colors per clusters using a dict\n",
      "cluster_colors = {0: '#1b9e77', 1: '#d95f02', 2: '#7570b3', 3: '#e7298a', 4: '#66a61e', 5: '#ffa500', 6: '#A52A2A',7: '#B22222', \n",
      "                  8: '#FFD700', 9: '#000080'}\n",
      "\n",
      "#set up cluster names using a dict\n",
      "cluster_names = {0: key_words[0], \n",
      "                 1: key_words[1], \n",
      "                 2: key_words[2], \n",
      "                 3: key_words[3],\n",
      "                 4: key_words[4],\n",
      "                 5: key_words[5],\n",
      "                 6: key_words[6],\n",
      "                 7: key_words[7],\n",
      "                 8: key_words[8],\n",
      "                 9: key_words[9]}\n"
     ],
     "language": "python",
     "metadata": {},
     "outputs": [],
     "prompt_number": 36
    },
    {
     "cell_type": "code",
     "collapsed": false,
     "input": [
      "#some ipython magic to show the matplotlib plots inline\n",
      "%matplotlib inline \n",
      "\n",
      "#create data frame that has the result of the MDS plus the cluster numbers and titles\n",
      "df = pd.DataFrame(dict(x=xs, y=ys, label=clusters, title=titles)) \n",
      "\n",
      "#print(df[1:10])\n",
      "# group by cluster\n",
      "# this generate {name:group(which is a dataframe)}\n",
      "groups = df.groupby('label')\n",
      "#print(groups.groups)\n",
      "\n",
      "\n",
      "# set up plot\n",
      "fig, ax = plt.subplots(figsize=(17, 9)) # set size\n",
      "# ax.margins(0.05) # Optional, just adds 5% padding to the autoscaling\n",
      "\n",
      "#iterate through groups to layer the plot\n",
      "#note that I use the cluster_name and cluster_color dicts with the 'name' lookup to return the appropriate color/label\n",
      "# ms: marker size\n",
      "for name, group in groups:\n",
      "    print(\"*******\")\n",
      "    #print(\"group name \" + str(name))\n",
      "    #print(group)\n",
      "    #type(group.title)\n",
      "    ax.plot(group.x, group.y, marker='o', linestyle='', ms=10, \n",
      "             color=cluster_colors[name], \n",
      "            mec='none')\n",
      "    #label=cluster_names[name], \n",
      "    ax.set_aspect('auto')\n",
      "    ax.tick_params(\\\n",
      "        axis= 'x',          # changes apply to the x-axis\n",
      "        which='both',      # both major and minor ticks are affected\n",
      "        bottom='off',      # ticks along the bottom edge are off\n",
      "        top='off',         # ticks along the top edge are off\n",
      "        labelbottom='off')\n",
      "    ax.tick_params(\\\n",
      "        axis= 'y',         # changes apply to the y-axis\n",
      "        which='both',      # both major and minor ticks are affected\n",
      "        left='off',      # ticks along the bottom edge are off\n",
      "        top='off',         # ticks along the top edge are off\n",
      "        labelleft='off')\n",
      "    \n",
      "ax.legend(numpoints=1)  #show legend with only 1 point\n",
      "\n",
      "#add label in x,y position with the label as the film title\n",
      "for i in range(len(df)):\n",
      "    ax.text(df.ix[i]['x'], df.ix[i]['y'],  size=10)  \n",
      "    #df.ix[i]['title'],\n",
      "\n",
      "    \n",
      "    \n",
      "#plt.show() #show the plot\n",
      "\n",
      "\n",
      "#uncomment the below to save the plot if need be\n",
      "#plt.savefig('clusters_small_noaxes.png', dpi=200)"
     ],
     "language": "python",
     "metadata": {},
     "outputs": []
    },
    {
     "cell_type": "code",
     "collapsed": false,
     "input": [
      "plt.close()"
     ],
     "language": "python",
     "metadata": {},
     "outputs": [],
     "prompt_number": 40
    },
    {
     "cell_type": "code",
     "collapsed": false,
     "input": [],
     "language": "python",
     "metadata": {},
     "outputs": []
    }
   ],
   "metadata": {}
  }
 ]
}